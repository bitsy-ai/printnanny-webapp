{
  "nbformat": 4,
  "nbformat_minor": 0,
  "metadata": {
    "colab": {
      "provenance": []
    },
    "kernelspec": {
      "name": "python3",
      "display_name": "Python 3"
    },
    "language_info": {
      "name": "python"
    }
  },
  "cells": [
    {
      "cell_type": "code",
      "execution_count": null,
      "metadata": {
        "id": "FQqtItK3eWt4"
      },
      "outputs": [],
      "source": [
        "import csv\n",
        "import os\n",
        "from anymail.message import AnymailMessage\n",
        "from anymail.exceptions import AnymailAPIError\n",
        "\n",
        "# AnyMail API credentials and parameters\n",
        "ANYMAIL_EMAIL_SUBJECT = 'Example email subject'\n",
        "ANYMAIL_EMAIL_TEXT = 'Example email text'\n",
        "\n",
        "# Target URL to filter rows by\n",
        "TARGET_URL = 'https://printnanny.ai/shop/founding-membership'\n",
        "\n",
        "def send_to_clicks_on_founding_members():\n",
        "  # Read CSV file and filter rows\n",
        "  filtered_rows = []\n",
        "  with open('email_list.csv') as csvfile:\n",
        "      reader = csv.DictReader(csvfile)\n",
        "      for row in reader:\n",
        "          clicked_url = row['clicked_url']\n",
        "          if TARGET_URL in clicked_url:\n",
        "              filtered_rows.append(row)\n",
        "\n",
        "  # Send email to each recipient using AnyMail API in batches of 100\n",
        "  for i in range(0, len(filtered_rows), 100):\n",
        "      batch = filtered_rows[i:i+100]\n",
        "      recipients = [row['email'] for row in batch]\n",
        "\n",
        "      email = AnymailMessage(\n",
        "          subject=ANYMAIL_EMAIL_SUBJECT,\n",
        "          body=ANYMAIL_EMAIL_TEXT,\n",
        "          to=recipients,\n",
        "      )\n",
        "      try:\n",
        "          email.send()\n",
        "          print(f'Successfully sent email to {len(recipients)} recipients')\n",
        "      except AnymailAPIError as e:\n",
        "          print(f'Failed to send email to {len(recipients)} recipients. {e}')\n",
        "\n",
        "send_to_clicks_on_founding_members()\n"
      ]
    }
  ]
}