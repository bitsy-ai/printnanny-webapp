{
 "cells": [
  {
   "cell_type": "code",
   "execution_count": 5,
   "metadata": {},
   "outputs": [
    {
     "name": "stderr",
     "output_type": "stream",
     "text": [
      "INFO 2020-11-19 14:29:00,517 tasks 145 140509473781568 Analyzing 41 predict_events for print_job 4\n",
      "WARNING 2020-11-19 14:29:00,564 <ipython-input-5-b7d67e745339> 145 140509473781568 Alert for print job {print_job} already sent at {alert_message.created_dt}, skipping\n"
     ]
    }
   ],
   "source": [
    "import imageio\n",
    "import io\n",
    "from django.template.loader import render_to_string\n",
    "from anymail.message import AnymailMessage\n",
    "import logging\n",
    "from django.core.files.images import ImageFile\n",
    "\n",
    "from print_nanny_webapp.client_events.tasks import predict_events_dataframe\n",
    "from print_nanny_webapp.client_events.models import PredictEvent, AlertVideoMessage\n",
    "\n",
    "df = predict_events_dataframe(4)\n",
    "\n",
    "def send_email_notification(df, ratio=0.55):\n",
    "    frame_ids = [frame_id for frame_id, _ in df.index]\n",
    "\n",
    "    predict_events = PredictEvent.objects.filter(\n",
    "        id__in=frame_ids,\n",
    "        print_job=4        \n",
    "    ).order_by('dt').all()\n",
    "\n",
    "    print_job = predict_events[0].print_job\n",
    "\n",
    "    last_alert_message = AlertVideoMessage.objects.filter(\n",
    "        print_job=print_job.id,\n",
    "    ).order_by('-created_dt').first()\n",
    "    if last_alert_message is not None:\n",
    "        logging.warning('Alert for print job {print_job} already sent at {alert_message.created_dt}, skipping')\n",
    "        return\n",
    "\n",
    "    images = []\n",
    "\n",
    "    for i, event in enumerate(predict_events):\n",
    "        images.append(imageio.imread(event.files.annotated_image.file))\n",
    "        print(f'finished {i}/{len(predict_events)}')\n",
    "    buff = io.BytesIO()\n",
    "    imageio.mimwrite(buff, images, fps=20, format='GIF-PIL')\n",
    "    buff.seek(0)\n",
    "    \n",
    "    filename= f'print_job_{print_job.id}_alert_message_{predict_events[0].dt}_{predict_events[len(predict_events)-1].dt}'\n",
    "    img_file = ImageFile(buff, name=filename)\n",
    "    alert_message = AlertVideoMessage.objects.create(\n",
    "        user=print_job.user,\n",
    "        print_job=print_job,\n",
    "        video=img_file,\n",
    "        dataframe=df.to_json(orient='records')\n",
    "    )\n",
    "    \n",
    "    \n",
    "    merge_data = {\n",
    "        'RATIO': '{:.2%}'.format(ratio),\n",
    "        'GCODE_FILE': print_job.gcode_file.name,\n",
    "        'VIDEO_URL': alert_message.video.url,\n",
    "        'STOP_URL': f'http://localhost/feedback/{alert_message.id}?action=stop_print',\n",
    "        'RESUME_URL': f'http://localhost/feedback/{alert_message.id}?action=resume',\n",
    "        'FIRST_NAME': print_job.user.first_name or 'Maker',\n",
    "    }\n",
    "\n",
    "    subject = render_to_string(\"email/print_alert_message_subject.txt\", merge_data).strip()\n",
    "    text_body = render_to_string(\"email/print_alert_message_body.txt\", merge_data)\n",
    "    html_body = render_to_string(\"email/print_alert_message_body.html\", merge_data)\n",
    "\n",
    "    message = AnymailMessage(\n",
    "        subject=subject,\n",
    "        body=text_body,\n",
    "        to=[predict_events[0].user.email],\n",
    "        tags=[\"default-print-alert\"],  # Anymail extra in constructor\n",
    "    )\n",
    "    message.attach_alternative(html_body, 'text/html')\n",
    "    return message.send()\n",
    "\n",
    "send_email_notification(df)\n"
   ]
  }
 ],
 "metadata": {
  "kernelspec": {
   "display_name": "Django Shell-Plus",
   "language": "python",
   "name": "django_extensions"
  },
  "language_info": {
   "codemirror_mode": {
    "name": "ipython",
    "version": 3
   },
   "file_extension": ".py",
   "mimetype": "text/x-python",
   "name": "python",
   "nbconvert_exporter": "python",
   "pygments_lexer": "ipython3",
   "version": "3.8.6"
  }
 },
 "nbformat": 4,
 "nbformat_minor": 4
}
