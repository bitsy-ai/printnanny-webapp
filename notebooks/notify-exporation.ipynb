{
 "cells": [
  {
   "cell_type": "code",
   "execution_count": 1,
   "metadata": {},
   "outputs": [
    {
     "name": "stderr",
     "output_type": "stream",
     "text": [
      "WARNING 2020-11-19 12:10:18,890 __init__ 50 140712647333696 Matplotlib created a temporary config/cache directory at /tmp/matplotlib-hbvgot91 because the default path (/.config/matplotlib) is not a writable directory; it is highly recommended to set the MPLCONFIGDIR environment variable to a writable directory, in particular to speed up the import of Matplotlib and to better support multiprocessing.\n"
     ]
    }
   ],
   "source": [
    "import pandas as pd\n",
    "from print_nanny_webapp.client_events.models import PredictEvent, AlertVideoMessage, PrintJob\n",
    "from django.utils import timezone\n",
    "from asgiref.sync import sync_to_async\n",
    "import os\n",
    "import uuid\n",
    "\n",
    "import matplotlib\n"
   ]
  },
  {
   "cell_type": "code",
   "execution_count": 2,
   "metadata": {},
   "outputs": [],
   "source": [
    "CONFIDENCE_THRESHOLD = 0.50\n",
    "\n",
    "LABELS = {\n",
    "    1: 'nozzle',\n",
    "    2: 'adhesion',\n",
    "    3: 'spaghetti',\n",
    "    4: 'print',\n",
    "    5: 'raft',\n",
    "}\n",
    "\n",
    "FAILURES = {\n",
    "    2: 'adhesion',\n",
    "    3: 'spaghetti',  \n",
    "}\n"
   ]
  },
  {
   "cell_type": "code",
   "execution_count": null,
   "metadata": {},
   "outputs": [],
   "source": []
  },
  {
   "cell_type": "code",
   "execution_count": 3,
   "metadata": {},
   "outputs": [],
   "source": [
    "import json\n",
    "def dict_to_series(data):\n",
    "    return pd.Series(data.values(), index=data.keys())"
   ]
  },
  {
   "cell_type": "code",
   "execution_count": 4,
   "metadata": {},
   "outputs": [
    {
     "name": "stdout",
     "output_type": "stream",
     "text": [
      "40\n"
     ]
    }
   ],
   "source": [
    "predict_events = PredictEvent.objects.all().order_by('-dt').values('id','predict_data')\n",
    "\n",
    "df = pd.DataFrame.from_records(predict_events, index='id')\n",
    "df = df['predict_data'].apply(dict_to_series)\n",
    "\n",
    "NUM_DETECTIONS = len(df['detection_scores'].iloc[0])\n",
    "print(NUM_DETECTIONS)"
   ]
  },
  {
   "cell_type": "code",
   "execution_count": 5,
   "metadata": {},
   "outputs": [
    {
     "data": {
      "text/html": [
       "<div>\n",
       "<style scoped>\n",
       "    .dataframe tbody tr th:only-of-type {\n",
       "        vertical-align: middle;\n",
       "    }\n",
       "\n",
       "    .dataframe tbody tr th {\n",
       "        vertical-align: top;\n",
       "    }\n",
       "\n",
       "    .dataframe thead th {\n",
       "        text-align: right;\n",
       "    }\n",
       "</style>\n",
       "<table border=\"1\" class=\"dataframe\">\n",
       "  <thead>\n",
       "    <tr style=\"text-align: right;\">\n",
       "      <th></th>\n",
       "      <th>frame_id</th>\n",
       "      <th>detection_classes</th>\n",
       "      <th>detection_scores</th>\n",
       "    </tr>\n",
       "  </thead>\n",
       "  <tbody>\n",
       "    <tr>\n",
       "      <th>0</th>\n",
       "      <td>80</td>\n",
       "      <td>[4, 1, 3, 3, 1, 4, 3, 4, 3, 4, 4, 3, 3, 4, 3, ...</td>\n",
       "      <td>[0.73046875, 0.58203125, 0.41796875, 0.1210937...</td>\n",
       "    </tr>\n",
       "    <tr>\n",
       "      <th>1</th>\n",
       "      <td>79</td>\n",
       "      <td>[3, 4, 3, 3, 3, 3, 3, 3, 3, 4, 3, 4, 3, 4, 3, ...</td>\n",
       "      <td>[0.66015625, 0.01953125, 0.01171875, 0.0117187...</td>\n",
       "    </tr>\n",
       "    <tr>\n",
       "      <th>2</th>\n",
       "      <td>78</td>\n",
       "      <td>[3, 3, 3, 4, 3, 4, 1, 3, 3, 3, 3, 3, 3, 3, 3, ...</td>\n",
       "      <td>[0.7890625, 0.03515625, 0.03515625, 0.03515625...</td>\n",
       "    </tr>\n",
       "    <tr>\n",
       "      <th>3</th>\n",
       "      <td>77</td>\n",
       "      <td>[3, 1, 3, 4, 3, 4, 3, 1, 3, 3, 3, 4, 3, 3, 4, ...</td>\n",
       "      <td>[0.58203125, 0.02734375, 0.02734375, 0.0273437...</td>\n",
       "    </tr>\n",
       "    <tr>\n",
       "      <th>4</th>\n",
       "      <td>76</td>\n",
       "      <td>[4, 4, 4, 3, 3, 4, 1, 4, 4, 3, 4, 4, 4, 3, 1, ...</td>\n",
       "      <td>[0.58203125, 0.12109375, 0.08984375, 0.0507812...</td>\n",
       "    </tr>\n",
       "    <tr>\n",
       "      <th>...</th>\n",
       "      <td>...</td>\n",
       "      <td>...</td>\n",
       "      <td>...</td>\n",
       "    </tr>\n",
       "    <tr>\n",
       "      <th>75</th>\n",
       "      <td>5</td>\n",
       "      <td>[4, 5, 1, 5, 1, 4, 5, 5, 4, 5, 4, 4, 4, 4, 1, ...</td>\n",
       "      <td>[0.83984375, 0.73046875, 0.58203125, 0.0664062...</td>\n",
       "    </tr>\n",
       "    <tr>\n",
       "      <th>76</th>\n",
       "      <td>4</td>\n",
       "      <td>[4, 5, 1, 5, 5, 1, 4, 5, 1, 4, 4, 5, 1, 4, 1, ...</td>\n",
       "      <td>[0.7890625, 0.66015625, 0.5, 0.2109375, 0.2109...</td>\n",
       "    </tr>\n",
       "    <tr>\n",
       "      <th>77</th>\n",
       "      <td>3</td>\n",
       "      <td>[4, 4, 1, 5, 4, 5, 5, 4, 4, 4, 4, 4, 4, 2, 4, ...</td>\n",
       "      <td>[0.73046875, 0.5, 0.26953125, 0.26953125, 0.12...</td>\n",
       "    </tr>\n",
       "    <tr>\n",
       "      <th>78</th>\n",
       "      <td>2</td>\n",
       "      <td>[4, 5, 1, 1, 5, 5, 4, 4, 4, 1, 4, 5, 2, 5, 4, ...</td>\n",
       "      <td>[0.7890625, 0.7890625, 0.58203125, 0.06640625,...</td>\n",
       "    </tr>\n",
       "    <tr>\n",
       "      <th>79</th>\n",
       "      <td>1</td>\n",
       "      <td>[4, 5, 1, 1, 5, 4, 5, 5, 5, 1, 1, 1, 4, 5, 4, ...</td>\n",
       "      <td>[0.83984375, 0.73046875, 0.5, 0.06640625, 0.05...</td>\n",
       "    </tr>\n",
       "  </tbody>\n",
       "</table>\n",
       "<p>80 rows × 3 columns</p>\n",
       "</div>"
      ],
      "text/plain": [
       "    frame_id                                  detection_classes  \\\n",
       "0         80  [4, 1, 3, 3, 1, 4, 3, 4, 3, 4, 4, 3, 3, 4, 3, ...   \n",
       "1         79  [3, 4, 3, 3, 3, 3, 3, 3, 3, 4, 3, 4, 3, 4, 3, ...   \n",
       "2         78  [3, 3, 3, 4, 3, 4, 1, 3, 3, 3, 3, 3, 3, 3, 3, ...   \n",
       "3         77  [3, 1, 3, 4, 3, 4, 3, 1, 3, 3, 3, 4, 3, 3, 4, ...   \n",
       "4         76  [4, 4, 4, 3, 3, 4, 1, 4, 4, 3, 4, 4, 4, 3, 1, ...   \n",
       "..       ...                                                ...   \n",
       "75         5  [4, 5, 1, 5, 1, 4, 5, 5, 4, 5, 4, 4, 4, 4, 1, ...   \n",
       "76         4  [4, 5, 1, 5, 5, 1, 4, 5, 1, 4, 4, 5, 1, 4, 1, ...   \n",
       "77         3  [4, 4, 1, 5, 4, 5, 5, 4, 4, 4, 4, 4, 4, 2, 4, ...   \n",
       "78         2  [4, 5, 1, 1, 5, 5, 4, 4, 4, 1, 4, 5, 2, 5, 4, ...   \n",
       "79         1  [4, 5, 1, 1, 5, 4, 5, 5, 5, 1, 1, 1, 4, 5, 4, ...   \n",
       "\n",
       "                                     detection_scores  \n",
       "0   [0.73046875, 0.58203125, 0.41796875, 0.1210937...  \n",
       "1   [0.66015625, 0.01953125, 0.01171875, 0.0117187...  \n",
       "2   [0.7890625, 0.03515625, 0.03515625, 0.03515625...  \n",
       "3   [0.58203125, 0.02734375, 0.02734375, 0.0273437...  \n",
       "4   [0.58203125, 0.12109375, 0.08984375, 0.0507812...  \n",
       "..                                                ...  \n",
       "75  [0.83984375, 0.73046875, 0.58203125, 0.0664062...  \n",
       "76  [0.7890625, 0.66015625, 0.5, 0.2109375, 0.2109...  \n",
       "77  [0.73046875, 0.5, 0.26953125, 0.26953125, 0.12...  \n",
       "78  [0.7890625, 0.7890625, 0.58203125, 0.06640625,...  \n",
       "79  [0.83984375, 0.73046875, 0.5, 0.06640625, 0.05...  \n",
       "\n",
       "[80 rows x 3 columns]"
      ]
     },
     "execution_count": 5,
     "metadata": {},
     "output_type": "execute_result"
    }
   ],
   "source": [
    "df = df.dropna()\n",
    "df = df[['detection_classes', 'detection_scores']]\n",
    "df = df.reset_index()\n",
    "df = df.rename(columns={'id': 'frame_id' })\n",
    "\n",
    "NUM_FRAMES = len(df)\n",
    "df"
   ]
  },
  {
   "cell_type": "code",
   "execution_count": 6,
   "metadata": {},
   "outputs": [
    {
     "name": "stdout",
     "output_type": "stream",
     "text": [
      "Explode detection_classes and detection_scores together\n"
     ]
    },
    {
     "data": {
      "text/html": [
       "<div>\n",
       "<style scoped>\n",
       "    .dataframe tbody tr th:only-of-type {\n",
       "        vertical-align: middle;\n",
       "    }\n",
       "\n",
       "    .dataframe tbody tr th {\n",
       "        vertical-align: top;\n",
       "    }\n",
       "\n",
       "    .dataframe thead th {\n",
       "        text-align: right;\n",
       "    }\n",
       "</style>\n",
       "<table border=\"1\" class=\"dataframe\">\n",
       "  <thead>\n",
       "    <tr style=\"text-align: right;\">\n",
       "      <th></th>\n",
       "      <th>frame_id</th>\n",
       "      <th>detection_classes</th>\n",
       "      <th>detection_scores</th>\n",
       "    </tr>\n",
       "  </thead>\n",
       "  <tbody>\n",
       "    <tr>\n",
       "      <th>0</th>\n",
       "      <td>80</td>\n",
       "      <td>4</td>\n",
       "      <td>0.730469</td>\n",
       "    </tr>\n",
       "    <tr>\n",
       "      <th>1</th>\n",
       "      <td>80</td>\n",
       "      <td>1</td>\n",
       "      <td>0.582031</td>\n",
       "    </tr>\n",
       "    <tr>\n",
       "      <th>2</th>\n",
       "      <td>80</td>\n",
       "      <td>3</td>\n",
       "      <td>0.417969</td>\n",
       "    </tr>\n",
       "    <tr>\n",
       "      <th>3</th>\n",
       "      <td>80</td>\n",
       "      <td>3</td>\n",
       "      <td>0.121094</td>\n",
       "    </tr>\n",
       "    <tr>\n",
       "      <th>4</th>\n",
       "      <td>80</td>\n",
       "      <td>1</td>\n",
       "      <td>0.0664062</td>\n",
       "    </tr>\n",
       "    <tr>\n",
       "      <th>...</th>\n",
       "      <td>...</td>\n",
       "      <td>...</td>\n",
       "      <td>...</td>\n",
       "    </tr>\n",
       "    <tr>\n",
       "      <th>3195</th>\n",
       "      <td>1</td>\n",
       "      <td>5</td>\n",
       "      <td>0.0078125</td>\n",
       "    </tr>\n",
       "    <tr>\n",
       "      <th>3196</th>\n",
       "      <td>1</td>\n",
       "      <td>1</td>\n",
       "      <td>0.0078125</td>\n",
       "    </tr>\n",
       "    <tr>\n",
       "      <th>3197</th>\n",
       "      <td>1</td>\n",
       "      <td>4</td>\n",
       "      <td>0.0078125</td>\n",
       "    </tr>\n",
       "    <tr>\n",
       "      <th>3198</th>\n",
       "      <td>1</td>\n",
       "      <td>3</td>\n",
       "      <td>0.0078125</td>\n",
       "    </tr>\n",
       "    <tr>\n",
       "      <th>3199</th>\n",
       "      <td>1</td>\n",
       "      <td>4</td>\n",
       "      <td>0.0078125</td>\n",
       "    </tr>\n",
       "  </tbody>\n",
       "</table>\n",
       "<p>3200 rows × 3 columns</p>\n",
       "</div>"
      ],
      "text/plain": [
       "      frame_id detection_classes detection_scores\n",
       "0           80                 4         0.730469\n",
       "1           80                 1         0.582031\n",
       "2           80                 3         0.417969\n",
       "3           80                 3         0.121094\n",
       "4           80                 1        0.0664062\n",
       "...        ...               ...              ...\n",
       "3195         1                 5        0.0078125\n",
       "3196         1                 1        0.0078125\n",
       "3197         1                 4        0.0078125\n",
       "3198         1                 3        0.0078125\n",
       "3199         1                 4        0.0078125\n",
       "\n",
       "[3200 rows x 3 columns]"
      ]
     },
     "execution_count": 6,
     "metadata": {},
     "output_type": "execute_result"
    }
   ],
   "source": [
    "print('Explode detection_classes and detection_scores together')\n",
    "df = df.set_index(['frame_id']).apply(pd.Series.explode).reset_index()\n",
    "\n",
    "assert len(df) == NUM_FRAMES * NUM_DETECTIONS\n",
    "df"
   ]
  },
  {
   "cell_type": "code",
   "execution_count": 7,
   "metadata": {},
   "outputs": [
    {
     "name": "stdout",
     "output_type": "stream",
     "text": [
      "Add labels\n"
     ]
    },
    {
     "data": {
      "text/html": [
       "<div>\n",
       "<style scoped>\n",
       "    .dataframe tbody tr th:only-of-type {\n",
       "        vertical-align: middle;\n",
       "    }\n",
       "\n",
       "    .dataframe tbody tr th {\n",
       "        vertical-align: top;\n",
       "    }\n",
       "\n",
       "    .dataframe thead th {\n",
       "        text-align: right;\n",
       "    }\n",
       "</style>\n",
       "<table border=\"1\" class=\"dataframe\">\n",
       "  <thead>\n",
       "    <tr style=\"text-align: right;\">\n",
       "      <th></th>\n",
       "      <th>frame_id</th>\n",
       "      <th>detection_classes</th>\n",
       "      <th>detection_scores</th>\n",
       "      <th>label</th>\n",
       "    </tr>\n",
       "  </thead>\n",
       "  <tbody>\n",
       "    <tr>\n",
       "      <th>0</th>\n",
       "      <td>80</td>\n",
       "      <td>4</td>\n",
       "      <td>0.730469</td>\n",
       "      <td>print</td>\n",
       "    </tr>\n",
       "    <tr>\n",
       "      <th>1</th>\n",
       "      <td>80</td>\n",
       "      <td>1</td>\n",
       "      <td>0.582031</td>\n",
       "      <td>nozzle</td>\n",
       "    </tr>\n",
       "    <tr>\n",
       "      <th>2</th>\n",
       "      <td>80</td>\n",
       "      <td>3</td>\n",
       "      <td>0.417969</td>\n",
       "      <td>spaghetti</td>\n",
       "    </tr>\n",
       "    <tr>\n",
       "      <th>3</th>\n",
       "      <td>80</td>\n",
       "      <td>3</td>\n",
       "      <td>0.121094</td>\n",
       "      <td>spaghetti</td>\n",
       "    </tr>\n",
       "    <tr>\n",
       "      <th>4</th>\n",
       "      <td>80</td>\n",
       "      <td>1</td>\n",
       "      <td>0.0664062</td>\n",
       "      <td>nozzle</td>\n",
       "    </tr>\n",
       "    <tr>\n",
       "      <th>...</th>\n",
       "      <td>...</td>\n",
       "      <td>...</td>\n",
       "      <td>...</td>\n",
       "      <td>...</td>\n",
       "    </tr>\n",
       "    <tr>\n",
       "      <th>3195</th>\n",
       "      <td>1</td>\n",
       "      <td>5</td>\n",
       "      <td>0.0078125</td>\n",
       "      <td>raft</td>\n",
       "    </tr>\n",
       "    <tr>\n",
       "      <th>3196</th>\n",
       "      <td>1</td>\n",
       "      <td>1</td>\n",
       "      <td>0.0078125</td>\n",
       "      <td>nozzle</td>\n",
       "    </tr>\n",
       "    <tr>\n",
       "      <th>3197</th>\n",
       "      <td>1</td>\n",
       "      <td>4</td>\n",
       "      <td>0.0078125</td>\n",
       "      <td>print</td>\n",
       "    </tr>\n",
       "    <tr>\n",
       "      <th>3198</th>\n",
       "      <td>1</td>\n",
       "      <td>3</td>\n",
       "      <td>0.0078125</td>\n",
       "      <td>spaghetti</td>\n",
       "    </tr>\n",
       "    <tr>\n",
       "      <th>3199</th>\n",
       "      <td>1</td>\n",
       "      <td>4</td>\n",
       "      <td>0.0078125</td>\n",
       "      <td>print</td>\n",
       "    </tr>\n",
       "  </tbody>\n",
       "</table>\n",
       "<p>3200 rows × 4 columns</p>\n",
       "</div>"
      ],
      "text/plain": [
       "      frame_id detection_classes detection_scores      label\n",
       "0           80                 4         0.730469      print\n",
       "1           80                 1         0.582031     nozzle\n",
       "2           80                 3         0.417969  spaghetti\n",
       "3           80                 3         0.121094  spaghetti\n",
       "4           80                 1        0.0664062     nozzle\n",
       "...        ...               ...              ...        ...\n",
       "3195         1                 5        0.0078125       raft\n",
       "3196         1                 1        0.0078125     nozzle\n",
       "3197         1                 4        0.0078125      print\n",
       "3198         1                 3        0.0078125  spaghetti\n",
       "3199         1                 4        0.0078125      print\n",
       "\n",
       "[3200 rows x 4 columns]"
      ]
     },
     "execution_count": 7,
     "metadata": {},
     "output_type": "execute_result"
    }
   ],
   "source": [
    "print('Add labels')\n",
    "df['label'] = df['detection_classes'].map(LABELS)\n",
    "df\n"
   ]
  },
  {
   "cell_type": "code",
   "execution_count": 8,
   "metadata": {},
   "outputs": [
    {
     "name": "stdout",
     "output_type": "stream",
     "text": [
      "Create a hierarchal index\n"
     ]
    },
    {
     "data": {
      "text/html": [
       "<div>\n",
       "<style scoped>\n",
       "    .dataframe tbody tr th:only-of-type {\n",
       "        vertical-align: middle;\n",
       "    }\n",
       "\n",
       "    .dataframe tbody tr th {\n",
       "        vertical-align: top;\n",
       "    }\n",
       "\n",
       "    .dataframe thead th {\n",
       "        text-align: right;\n",
       "    }\n",
       "</style>\n",
       "<table border=\"1\" class=\"dataframe\">\n",
       "  <thead>\n",
       "    <tr style=\"text-align: right;\">\n",
       "      <th></th>\n",
       "      <th></th>\n",
       "      <th>detection_classes</th>\n",
       "      <th>detection_scores</th>\n",
       "    </tr>\n",
       "    <tr>\n",
       "      <th>frame_id</th>\n",
       "      <th>label</th>\n",
       "      <th></th>\n",
       "      <th></th>\n",
       "    </tr>\n",
       "  </thead>\n",
       "  <tbody>\n",
       "    <tr>\n",
       "      <th rowspan=\"5\" valign=\"top\">80</th>\n",
       "      <th>print</th>\n",
       "      <td>4</td>\n",
       "      <td>0.730469</td>\n",
       "    </tr>\n",
       "    <tr>\n",
       "      <th>nozzle</th>\n",
       "      <td>1</td>\n",
       "      <td>0.582031</td>\n",
       "    </tr>\n",
       "    <tr>\n",
       "      <th>spaghetti</th>\n",
       "      <td>3</td>\n",
       "      <td>0.417969</td>\n",
       "    </tr>\n",
       "    <tr>\n",
       "      <th>spaghetti</th>\n",
       "      <td>3</td>\n",
       "      <td>0.121094</td>\n",
       "    </tr>\n",
       "    <tr>\n",
       "      <th>nozzle</th>\n",
       "      <td>1</td>\n",
       "      <td>0.0664062</td>\n",
       "    </tr>\n",
       "    <tr>\n",
       "      <th>...</th>\n",
       "      <th>...</th>\n",
       "      <td>...</td>\n",
       "      <td>...</td>\n",
       "    </tr>\n",
       "    <tr>\n",
       "      <th rowspan=\"5\" valign=\"top\">1</th>\n",
       "      <th>raft</th>\n",
       "      <td>5</td>\n",
       "      <td>0.0078125</td>\n",
       "    </tr>\n",
       "    <tr>\n",
       "      <th>nozzle</th>\n",
       "      <td>1</td>\n",
       "      <td>0.0078125</td>\n",
       "    </tr>\n",
       "    <tr>\n",
       "      <th>print</th>\n",
       "      <td>4</td>\n",
       "      <td>0.0078125</td>\n",
       "    </tr>\n",
       "    <tr>\n",
       "      <th>spaghetti</th>\n",
       "      <td>3</td>\n",
       "      <td>0.0078125</td>\n",
       "    </tr>\n",
       "    <tr>\n",
       "      <th>print</th>\n",
       "      <td>4</td>\n",
       "      <td>0.0078125</td>\n",
       "    </tr>\n",
       "  </tbody>\n",
       "</table>\n",
       "<p>3200 rows × 2 columns</p>\n",
       "</div>"
      ],
      "text/plain": [
       "                   detection_classes detection_scores\n",
       "frame_id label                                       \n",
       "80       print                     4         0.730469\n",
       "         nozzle                    1         0.582031\n",
       "         spaghetti                 3         0.417969\n",
       "         spaghetti                 3         0.121094\n",
       "         nozzle                    1        0.0664062\n",
       "...                              ...              ...\n",
       "1        raft                      5        0.0078125\n",
       "         nozzle                    1        0.0078125\n",
       "         print                     4        0.0078125\n",
       "         spaghetti                 3        0.0078125\n",
       "         print                     4        0.0078125\n",
       "\n",
       "[3200 rows x 2 columns]"
      ]
     },
     "execution_count": 8,
     "metadata": {},
     "output_type": "execute_result"
    }
   ],
   "source": [
    "print('Create a hierarchal index')\n",
    "df = df.set_index(['frame_id', 'label'])\n",
    "df"
   ]
  },
  {
   "cell_type": "code",
   "execution_count": 9,
   "metadata": {},
   "outputs": [
    {
     "name": "stderr",
     "output_type": "stream",
     "text": [
      "INFO 2020-11-19 12:10:19,111 font_manager 50 140712647333696 Generating new fontManager, this may take some time...\n"
     ]
    },
    {
     "name": "stdout",
     "output_type": "stream",
     "text": [
      "Distribution of confidences\n"
     ]
    },
    {
     "data": {
      "text/plain": [
       "array([[<AxesSubplot:title={'center':'adhesion'}>,\n",
       "        <AxesSubplot:title={'center':'nozzle'}>],\n",
       "       [<AxesSubplot:title={'center':'print'}>,\n",
       "        <AxesSubplot:title={'center':'raft'}>],\n",
       "       [<AxesSubplot:title={'center':'spaghetti'}>, <AxesSubplot:>]],\n",
       "      dtype=object)"
      ]
     },
     "execution_count": 9,
     "metadata": {},
     "output_type": "execute_result"
    },
    {
     "data": {
      "image/png": "[encoded data removed]",
      "text/plain": [
       "<Figure size 720x720 with 6 Axes>"
      ]
     },
     "metadata": {
      "needs_background": "light"
     },
     "output_type": "display_data"
    }
   ],
   "source": [
    "print(f'Distribution of confidences')\n",
    "df['detection_scores'].hist(by='label', figsize=(10,10))"
   ]
  },
  {
   "cell_type": "code",
   "execution_count": 10,
   "metadata": {},
   "outputs": [
    {
     "name": "stdout",
     "output_type": "stream",
     "text": [
      "Distribution of confidences > 0.5\n"
     ]
    },
    {
     "data": {
      "text/plain": [
       "array([[<AxesSubplot:title={'center':'adhesion'}>,\n",
       "        <AxesSubplot:title={'center':'nozzle'}>],\n",
       "       [<AxesSubplot:title={'center':'print'}>,\n",
       "        <AxesSubplot:title={'center':'raft'}>],\n",
       "       [<AxesSubplot:title={'center':'spaghetti'}>, <AxesSubplot:>]],\n",
       "      dtype=object)"
      ]
     },
     "execution_count": 10,
     "metadata": {},
     "output_type": "execute_result"
    },
    {
     "data": {
      "image/png": "[encoded data removed]",
      "text/plain": [
       "<Figure size 720x720 with 6 Axes>"
      ]
     },
     "metadata": {
      "needs_background": "light"
     },
     "output_type": "display_data"
    }
   ],
   "source": [
    "print(f'Distribution of confidences > {CONFIDENCE_THRESHOLD}')\n",
    "df[df['detection_scores'] > CONFIDENCE_THRESHOLD]['detection_scores'].hist(by='label', figsize=(10,10))"
   ]
  },
  {
   "cell_type": "code",
   "execution_count": 11,
   "metadata": {},
   "outputs": [
    {
     "name": "stdout",
     "output_type": "stream",
     "text": [
      "Distribution of confidence scores > THRESHOLD, FAILURE vs. OK\n"
     ]
    },
    {
     "data": {
      "text/plain": [
       "array([<AxesSubplot:title={'center':'FAILURE'}>,\n",
       "       <AxesSubplot:title={'center':'NEUTRAL'}>], dtype=object)"
      ]
     },
     "execution_count": 11,
     "metadata": {},
     "output_type": "execute_result"
    },
    {
     "data": {
      "image/png": "[encoded data removed]",
      "text/plain": [
       "<Figure size 432x288 with 2 Axes>"
      ]
     },
     "metadata": {
      "needs_background": "light"
     },
     "output_type": "display_data"
    }
   ],
   "source": [
    "print('Distribution of confidence scores > THRESHOLD, FAILURE vs. OK')\n",
    "df[df['detection_scores'] > CONFIDENCE_THRESHOLD]['detection_scores'].hist(by=lambda x: 'FAILURE' if x[1] in FAILURES.values() else 'NEUTRAL' )\n"
   ]
  },
  {
   "cell_type": "code",
   "execution_count": 12,
   "metadata": {},
   "outputs": [
    {
     "name": "stdout",
     "output_type": "stream",
     "text": [
      "Frames where at least 1 type of failure is confidently detected\n"
     ]
    },
    {
     "data": {
      "text/html": [
       "<div>\n",
       "<style scoped>\n",
       "    .dataframe tbody tr th:only-of-type {\n",
       "        vertical-align: middle;\n",
       "    }\n",
       "\n",
       "    .dataframe tbody tr th {\n",
       "        vertical-align: top;\n",
       "    }\n",
       "\n",
       "    .dataframe thead th {\n",
       "        text-align: right;\n",
       "    }\n",
       "</style>\n",
       "<table border=\"1\" class=\"dataframe\">\n",
       "  <thead>\n",
       "    <tr style=\"text-align: right;\">\n",
       "      <th></th>\n",
       "      <th></th>\n",
       "      <th>detection_classes</th>\n",
       "      <th>detection_scores</th>\n",
       "    </tr>\n",
       "    <tr>\n",
       "      <th>frame_id</th>\n",
       "      <th>label</th>\n",
       "      <th></th>\n",
       "      <th></th>\n",
       "    </tr>\n",
       "  </thead>\n",
       "  <tbody>\n",
       "    <tr>\n",
       "      <th>79</th>\n",
       "      <th>spaghetti</th>\n",
       "      <td>3</td>\n",
       "      <td>0.660156</td>\n",
       "    </tr>\n",
       "    <tr>\n",
       "      <th>78</th>\n",
       "      <th>spaghetti</th>\n",
       "      <td>3</td>\n",
       "      <td>0.789062</td>\n",
       "    </tr>\n",
       "    <tr>\n",
       "      <th>77</th>\n",
       "      <th>spaghetti</th>\n",
       "      <td>3</td>\n",
       "      <td>0.582031</td>\n",
       "    </tr>\n",
       "    <tr>\n",
       "      <th>75</th>\n",
       "      <th>spaghetti</th>\n",
       "      <td>3</td>\n",
       "      <td>0.730469</td>\n",
       "    </tr>\n",
       "    <tr>\n",
       "      <th>74</th>\n",
       "      <th>spaghetti</th>\n",
       "      <td>3</td>\n",
       "      <td>0.839844</td>\n",
       "    </tr>\n",
       "    <tr>\n",
       "      <th>73</th>\n",
       "      <th>spaghetti</th>\n",
       "      <td>3</td>\n",
       "      <td>0.582031</td>\n",
       "    </tr>\n",
       "    <tr>\n",
       "      <th>72</th>\n",
       "      <th>spaghetti</th>\n",
       "      <td>3</td>\n",
       "      <td>0.582031</td>\n",
       "    </tr>\n",
       "    <tr>\n",
       "      <th rowspan=\"2\" valign=\"top\">69</th>\n",
       "      <th>adhesion</th>\n",
       "      <td>2</td>\n",
       "      <td>0.660156</td>\n",
       "    </tr>\n",
       "    <tr>\n",
       "      <th>adhesion</th>\n",
       "      <td>2</td>\n",
       "      <td>0.582031</td>\n",
       "    </tr>\n",
       "    <tr>\n",
       "      <th>68</th>\n",
       "      <th>adhesion</th>\n",
       "      <td>2</td>\n",
       "      <td>0.660156</td>\n",
       "    </tr>\n",
       "    <tr>\n",
       "      <th>67</th>\n",
       "      <th>spaghetti</th>\n",
       "      <td>3</td>\n",
       "      <td>0.582031</td>\n",
       "    </tr>\n",
       "    <tr>\n",
       "      <th>66</th>\n",
       "      <th>spaghetti</th>\n",
       "      <td>3</td>\n",
       "      <td>0.660156</td>\n",
       "    </tr>\n",
       "    <tr>\n",
       "      <th rowspan=\"2\" valign=\"top\">65</th>\n",
       "      <th>adhesion</th>\n",
       "      <td>2</td>\n",
       "      <td>0.839844</td>\n",
       "    </tr>\n",
       "    <tr>\n",
       "      <th>adhesion</th>\n",
       "      <td>2</td>\n",
       "      <td>0.660156</td>\n",
       "    </tr>\n",
       "    <tr>\n",
       "      <th rowspan=\"2\" valign=\"top\">63</th>\n",
       "      <th>adhesion</th>\n",
       "      <td>2</td>\n",
       "      <td>0.730469</td>\n",
       "    </tr>\n",
       "    <tr>\n",
       "      <th>adhesion</th>\n",
       "      <td>2</td>\n",
       "      <td>0.582031</td>\n",
       "    </tr>\n",
       "    <tr>\n",
       "      <th>61</th>\n",
       "      <th>adhesion</th>\n",
       "      <td>2</td>\n",
       "      <td>0.582031</td>\n",
       "    </tr>\n",
       "    <tr>\n",
       "      <th rowspan=\"2\" valign=\"top\">60</th>\n",
       "      <th>adhesion</th>\n",
       "      <td>2</td>\n",
       "      <td>0.730469</td>\n",
       "    </tr>\n",
       "    <tr>\n",
       "      <th>adhesion</th>\n",
       "      <td>2</td>\n",
       "      <td>0.660156</td>\n",
       "    </tr>\n",
       "    <tr>\n",
       "      <th rowspan=\"2\" valign=\"top\">59</th>\n",
       "      <th>adhesion</th>\n",
       "      <td>2</td>\n",
       "      <td>0.660156</td>\n",
       "    </tr>\n",
       "    <tr>\n",
       "      <th>adhesion</th>\n",
       "      <td>2</td>\n",
       "      <td>0.582031</td>\n",
       "    </tr>\n",
       "    <tr>\n",
       "      <th rowspan=\"2\" valign=\"top\">58</th>\n",
       "      <th>spaghetti</th>\n",
       "      <td>3</td>\n",
       "      <td>0.789062</td>\n",
       "    </tr>\n",
       "    <tr>\n",
       "      <th>spaghetti</th>\n",
       "      <td>3</td>\n",
       "      <td>0.582031</td>\n",
       "    </tr>\n",
       "    <tr>\n",
       "      <th rowspan=\"3\" valign=\"top\">57</th>\n",
       "      <th>spaghetti</th>\n",
       "      <td>3</td>\n",
       "      <td>0.949219</td>\n",
       "    </tr>\n",
       "    <tr>\n",
       "      <th>spaghetti</th>\n",
       "      <td>3</td>\n",
       "      <td>0.660156</td>\n",
       "    </tr>\n",
       "    <tr>\n",
       "      <th>adhesion</th>\n",
       "      <td>2</td>\n",
       "      <td>0.660156</td>\n",
       "    </tr>\n",
       "    <tr>\n",
       "      <th>32</th>\n",
       "      <th>spaghetti</th>\n",
       "      <td>3</td>\n",
       "      <td>0.660156</td>\n",
       "    </tr>\n",
       "  </tbody>\n",
       "</table>\n",
       "</div>"
      ],
      "text/plain": [
       "                   detection_classes detection_scores\n",
       "frame_id label                                       \n",
       "79       spaghetti                 3         0.660156\n",
       "78       spaghetti                 3         0.789062\n",
       "77       spaghetti                 3         0.582031\n",
       "75       spaghetti                 3         0.730469\n",
       "74       spaghetti                 3         0.839844\n",
       "73       spaghetti                 3         0.582031\n",
       "72       spaghetti                 3         0.582031\n",
       "69       adhesion                  2         0.660156\n",
       "         adhesion                  2         0.582031\n",
       "68       adhesion                  2         0.660156\n",
       "67       spaghetti                 3         0.582031\n",
       "66       spaghetti                 3         0.660156\n",
       "65       adhesion                  2         0.839844\n",
       "         adhesion                  2         0.660156\n",
       "63       adhesion                  2         0.730469\n",
       "         adhesion                  2         0.582031\n",
       "61       adhesion                  2         0.582031\n",
       "60       adhesion                  2         0.730469\n",
       "         adhesion                  2         0.660156\n",
       "59       adhesion                  2         0.660156\n",
       "         adhesion                  2         0.582031\n",
       "58       spaghetti                 3         0.789062\n",
       "         spaghetti                 3         0.582031\n",
       "57       spaghetti                 3         0.949219\n",
       "         spaghetti                 3         0.660156\n",
       "         adhesion                  2         0.660156\n",
       "32       spaghetti                 3         0.660156"
      ]
     },
     "execution_count": 12,
     "metadata": {},
     "output_type": "execute_result"
    }
   ],
   "source": [
    "print('Frames where at least 1 type of failure is confidently detected')\n",
    "\n",
    "mask = (df['detection_scores'] > CONFIDENCE_THRESHOLD) & (df['detection_classes'].isin(FAILURES))\n",
    "\n",
    "fail_df = df[mask]\n",
    "\n",
    "fail_df"
   ]
  },
  {
   "cell_type": "code",
   "execution_count": 13,
   "metadata": {},
   "outputs": [
    {
     "name": "stdout",
     "output_type": "stream",
     "text": [
      "Percent of frames where at least 1 type of failure is confidently detected\n"
     ]
    },
    {
     "data": {
      "text/plain": [
       "33.75"
      ]
     },
     "execution_count": 13,
     "metadata": {},
     "output_type": "execute_result"
    }
   ],
   "source": [
    "print('Percent of frames where at least 1 type of failure is confidently detected')\n",
    "(len(fail_df) / NUM_FRAMES) * 100"
   ]
  },
  {
   "cell_type": "code",
   "execution_count": 14,
   "metadata": {},
   "outputs": [
    {
     "name": "stdout",
     "output_type": "stream",
     "text": [
      "Frames where at least 1 type of neutral is confidently detected\n"
     ]
    },
    {
     "data": {
      "text/html": [
       "<div>\n",
       "<style scoped>\n",
       "    .dataframe tbody tr th:only-of-type {\n",
       "        vertical-align: middle;\n",
       "    }\n",
       "\n",
       "    .dataframe tbody tr th {\n",
       "        vertical-align: top;\n",
       "    }\n",
       "\n",
       "    .dataframe thead th {\n",
       "        text-align: right;\n",
       "    }\n",
       "</style>\n",
       "<table border=\"1\" class=\"dataframe\">\n",
       "  <thead>\n",
       "    <tr style=\"text-align: right;\">\n",
       "      <th></th>\n",
       "      <th></th>\n",
       "      <th>detection_classes</th>\n",
       "      <th>detection_scores</th>\n",
       "    </tr>\n",
       "    <tr>\n",
       "      <th>frame_id</th>\n",
       "      <th>label</th>\n",
       "      <th></th>\n",
       "      <th></th>\n",
       "    </tr>\n",
       "  </thead>\n",
       "  <tbody>\n",
       "    <tr>\n",
       "      <th rowspan=\"2\" valign=\"top\">80</th>\n",
       "      <th>print</th>\n",
       "      <td>4</td>\n",
       "      <td>0.730469</td>\n",
       "    </tr>\n",
       "    <tr>\n",
       "      <th>nozzle</th>\n",
       "      <td>1</td>\n",
       "      <td>0.582031</td>\n",
       "    </tr>\n",
       "    <tr>\n",
       "      <th>76</th>\n",
       "      <th>print</th>\n",
       "      <td>4</td>\n",
       "      <td>0.582031</td>\n",
       "    </tr>\n",
       "    <tr>\n",
       "      <th>74</th>\n",
       "      <th>print</th>\n",
       "      <td>4</td>\n",
       "      <td>0.910156</td>\n",
       "    </tr>\n",
       "    <tr>\n",
       "      <th>73</th>\n",
       "      <th>print</th>\n",
       "      <td>4</td>\n",
       "      <td>0.660156</td>\n",
       "    </tr>\n",
       "    <tr>\n",
       "      <th>...</th>\n",
       "      <th>...</th>\n",
       "      <td>...</td>\n",
       "      <td>...</td>\n",
       "    </tr>\n",
       "    <tr>\n",
       "      <th rowspan=\"3\" valign=\"top\">2</th>\n",
       "      <th>print</th>\n",
       "      <td>4</td>\n",
       "      <td>0.789062</td>\n",
       "    </tr>\n",
       "    <tr>\n",
       "      <th>raft</th>\n",
       "      <td>5</td>\n",
       "      <td>0.789062</td>\n",
       "    </tr>\n",
       "    <tr>\n",
       "      <th>nozzle</th>\n",
       "      <td>1</td>\n",
       "      <td>0.582031</td>\n",
       "    </tr>\n",
       "    <tr>\n",
       "      <th rowspan=\"2\" valign=\"top\">1</th>\n",
       "      <th>print</th>\n",
       "      <td>4</td>\n",
       "      <td>0.839844</td>\n",
       "    </tr>\n",
       "    <tr>\n",
       "      <th>raft</th>\n",
       "      <td>5</td>\n",
       "      <td>0.730469</td>\n",
       "    </tr>\n",
       "  </tbody>\n",
       "</table>\n",
       "<p>96 rows × 2 columns</p>\n",
       "</div>"
      ],
      "text/plain": [
       "                detection_classes detection_scores\n",
       "frame_id label                                    \n",
       "80       print                  4         0.730469\n",
       "         nozzle                 1         0.582031\n",
       "76       print                  4         0.582031\n",
       "74       print                  4         0.910156\n",
       "73       print                  4         0.660156\n",
       "...                           ...              ...\n",
       "2        print                  4         0.789062\n",
       "         raft                   5         0.789062\n",
       "         nozzle                 1         0.582031\n",
       "1        print                  4         0.839844\n",
       "         raft                   5         0.730469\n",
       "\n",
       "[96 rows x 2 columns]"
      ]
     },
     "execution_count": 14,
     "metadata": {},
     "output_type": "execute_result"
    }
   ],
   "source": [
    "print('Frames where at least 1 type of neutral is confidently detected')\n",
    "\n",
    "mask = (df['detection_scores'] > CONFIDENCE_THRESHOLD) & (~df['detection_classes'].isin(FAILURES))\n",
    "\n",
    "neutral_df = df[mask]\n",
    "\n",
    "neutral_df "
   ]
  },
  {
   "cell_type": "code",
   "execution_count": 15,
   "metadata": {},
   "outputs": [
    {
     "name": "stdout",
     "output_type": "stream",
     "text": [
      "Percent of frames where at least 1 type of neutral (print, raft, nozzle) is confidently detected\n"
     ]
    },
    {
     "data": {
      "text/plain": [
       "120.0"
      ]
     },
     "execution_count": 15,
     "metadata": {},
     "output_type": "execute_result"
    }
   ],
   "source": [
    "print('Percent of frames where at least 1 type of neutral (print, raft, nozzle) is confidently detected')\n",
    "(len(neutral_df ) / NUM_FRAMES) * 100"
   ]
  },
  {
   "cell_type": "code",
   "execution_count": 16,
   "metadata": {},
   "outputs": [
    {
     "name": "stdout",
     "output_type": "stream",
     "text": [
      "Ratio of frames with at least 1 failure detected : frames with at least 1 neutral detected\n"
     ]
    },
    {
     "data": {
      "text/plain": [
       "0.28125"
      ]
     },
     "execution_count": 16,
     "metadata": {},
     "output_type": "execute_result"
    }
   ],
   "source": [
    "print('Ratio of frames with at least 1 failure detected : frames with at least 1 neutral detected')\n",
    "\n",
    "len(fail_df) / (len(neutral_df ))"
   ]
  },
  {
   "cell_type": "code",
   "execution_count": 17,
   "metadata": {},
   "outputs": [
    {
     "data": {
      "text/plain": [
       "(('adhesion', 13),\n",
       " ('nozzle', 12),\n",
       " ('print', 52),\n",
       " ('raft', 32),\n",
       " ('spaghetti', 14))"
      ]
     },
     "execution_count": 17,
     "metadata": {},
     "output_type": "execute_result"
    }
   ],
   "source": [
    "tuple(df[df['detection_scores'] > CONFIDENCE_THRESHOLD].groupby(level='label').size().items())"
   ]
  },
  {
   "cell_type": "code",
   "execution_count": 24,
   "metadata": {},
   "outputs": [
    {
     "name": "stdout",
     "output_type": "stream",
     "text": [
      "finished 0/18\n",
      "finished 1/18\n",
      "finished 2/18\n",
      "finished 3/18\n",
      "finished 4/18\n",
      "finished 5/18\n",
      "finished 6/18\n",
      "finished 7/18\n",
      "finished 8/18\n",
      "finished 9/18\n",
      "finished 10/18\n",
      "finished 11/18\n",
      "finished 12/18\n",
      "finished 13/18\n",
      "finished 14/18\n",
      "finished 15/18\n",
      "finished 16/18\n",
      "finished 17/18\n"
     ]
    },
    {
     "data": {
      "text/plain": [
       "1"
      ]
     },
     "execution_count": 24,
     "metadata": {},
     "output_type": "execute_result"
    }
   ],
   "source": []
  },
  {
   "cell_type": "code",
   "execution_count": null,
   "metadata": {},
   "outputs": [],
   "source": []
  }
 ],
 "metadata": {
  "kernelspec": {
   "display_name": "Django Shell-Plus",
   "language": "python",
   "name": "django_extensions"
  },
  "language_info": {
   "codemirror_mode": {
    "name": "ipython",
    "version": 3
   },
   "file_extension": ".py",
   "mimetype": "text/x-python",
   "name": "python",
   "nbconvert_exporter": "python",
   "pygments_lexer": "ipython3",
   "version": "3.8.6"
  }
 },
 "nbformat": 4,
 "nbformat_minor": 2
}
